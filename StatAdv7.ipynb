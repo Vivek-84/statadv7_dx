{
 "cells": [
  {
   "cell_type": "markdown",
   "id": "70cf316c",
   "metadata": {},
   "source": [
    "# Write a Python function that takes in two arrays of data and calculates the F-value for a variance ratio test. The function should return the F-value and the corresponding p-value for the test.\n"
   ]
  },
  {
   "cell_type": "code",
   "execution_count": 1,
   "id": "85a02bb1",
   "metadata": {},
   "outputs": [
    {
     "name": "stdout",
     "output_type": "stream",
     "text": [
      "F-value: 1.5044247787610618\n",
      "p-value: 0.3509826325280263\n"
     ]
    }
   ],
   "source": [
    "# The F-value for a variance ratio test is calculated by comparing the variances of two data sets. The formula for the \n",
    "# F-value is:\n",
    "# F = s_1^2/s_2^2\n",
    "\n",
    "# where s_1^2 is the variance of the first data set and s_2^2  is the variance of the second data set. The degrees of freedom\n",
    "# for the two variances are n_1 - 1  and n_2 - 1 respectively, where n_1 is the number of observations in the\n",
    "# first data set and n_2  is the number of observations in the second data set.\n",
    "\n",
    "# To calculate the p-value, we can use the cumulative distribution function (CDF) of the F-distribution. You'll need to import\n",
    "# the scipy.stats module to access these functions.\n",
    "\n",
    "\n",
    "import numpy as np\n",
    "from scipy.stats import f\n",
    "\n",
    "def variance_ratio_test(data1, data2):\n",
    "    n1 = len(data1)\n",
    "    n2 = len(data2)\n",
    "    \n",
    "    var1 = np.var(data1, ddof=1)  # ddof=1 for unbiased variance estimator\n",
    "    var2 = np.var(data2, ddof=1)\n",
    "    \n",
    "    F = var1 / var2\n",
    "    df1 = n1 - 1\n",
    "    df2 = n2 - 1\n",
    "    \n",
    "    p_value = 1 - f.cdf(F, df1, df2)\n",
    "    \n",
    "    return F, p_value\n",
    "\n",
    "# Example usage\n",
    "data1 = [10, 12, 15, 18, 20]\n",
    "data2 = [8, 9, 11, 14, 16]\n",
    "\n",
    "F_value, p_value = variance_ratio_test(data1, data2)\n",
    "print(\"F-value:\", F_value)\n",
    "print(\"p-value:\", p_value)\n",
    "\n",
    "\n",
    "# In this example, replace data1 and data2 with your actual data sets. The function calculates the F-value and the\n",
    "# corresponding p-value for the variance ratio test. The scipy.stats.f.cdf function is used to compute the cumulative \n",
    "# distribution function of the F-distribution."
   ]
  },
  {
   "cell_type": "markdown",
   "id": "903e47fa",
   "metadata": {},
   "source": [
    "# Given a significance level of 0.05 and the degrees of freedom for the numerator and denominator of an F-distribution, write a Python function that returns the critical F-value for a two-tailed test.\n"
   ]
  },
  {
   "cell_type": "code",
   "execution_count": 4,
   "id": "cf91c50a",
   "metadata": {},
   "outputs": [
    {
     "name": "stdout",
     "output_type": "stream",
     "text": [
      "Critical F-value: 4.474184809637748\n"
     ]
    }
   ],
   "source": [
    "# Certainly! In a two-tailed test, you want to find the critical F-value that corresponds to a given significance level and\n",
    "# degrees of freedom for both the numerator and denominator of the F-distribution. The critical F-value is the value beyond\n",
    "# which you would reject the null hypothesis.\n",
    "\n",
    "# You can use the scipy.stats module to find the critical F-value using the f.ppf (percent point function) function. Here's\n",
    "# the Python function\n",
    "\n",
    "from scipy.stats import f\n",
    "\n",
    "def critical_f_value(significance_level, df1, df2):\n",
    "    alpha = significance_level\n",
    "    critical_value = f.ppf(1 - alpha/2, df1, df2)\n",
    "    return critical_value\n",
    "\n",
    "# Example usage\n",
    "significance_level = 0.05\n",
    "degrees_of_freedom_numerator = 3\n",
    "degrees_of_freedom_denominator = 12\n",
    "\n",
    "critical_value = critical_f_value(significance_level, degrees_of_freedom_numerator, degrees_of_freedom_denominator)\n",
    "print(\"Critical F-value:\", critical_value)\n",
    "\n",
    "# In this example, replace degrees_of_freedom_numerator and degrees_of_freedom_denominator with your actual degrees of freedom\n",
    "# values. The function calculates the critical F-value corresponding to a given significance level and degrees of freedom for\n",
    "# the two-tailed test using the scipy.stats.f.ppf function."
   ]
  },
  {
   "cell_type": "markdown",
   "id": "1f93d1ae",
   "metadata": {},
   "source": [
    "# Write a Python program that generates random samples from two normal distributions with known variances and uses an F-test to determine if the variances are equal. The program should output the F-value, degrees of freedom, and p-value for the test.\n",
    "\n"
   ]
  },
  {
   "cell_type": "code",
   "execution_count": 5,
   "id": "4f7c638b",
   "metadata": {},
   "outputs": [
    {
     "name": "stdout",
     "output_type": "stream",
     "text": [
      "F-value: 1.0793045934279637\n",
      "Degrees of Freedom (numerator): 19\n",
      "Degrees of Freedom (denominator): 24\n",
      "p-value: 0.8486276740085787\n"
     ]
    }
   ],
   "source": [
    "# Here's a Python program that generates random samples from two normal distributions with known variances and\n",
    "# performs an F-test to determine if the variances are equal. The program will output the F-value, degrees of freedom, \n",
    "# and p-value for the test\n",
    "\n",
    "import numpy as np\n",
    "from scipy.stats import f\n",
    "\n",
    "def f_test(data1, data2):\n",
    "    var1 = np.var(data1, ddof=1)  # ddof=1 for unbiased variance estimator\n",
    "    var2 = np.var(data2, ddof=1)\n",
    "    \n",
    "    n1 = len(data1)\n",
    "    n2 = len(data2)\n",
    "    \n",
    "    F = var1 / var2\n",
    "    df1 = n1 - 1\n",
    "    df2 = n2 - 1\n",
    "    \n",
    "    p_value = 2 * min(f.cdf(F, df1, df2), 1 - f.cdf(F, df1, df2))\n",
    "    \n",
    "    return F, df1, df2, p_value\n",
    "\n",
    "# Generate random samples from two normal distributions\n",
    "np.random.seed(42)\n",
    "data1 = np.random.normal(loc=0, scale=2, size=20)  # Mean=0, Variance=4\n",
    "data2 = np.random.normal(loc=0, scale=2, size=25)  # Mean=0, Variance=4\n",
    "\n",
    "F_value, degrees_of_freedom1, degrees_of_freedom2, p_value = f_test(data1, data2)\n",
    "\n",
    "print(\"F-value:\", F_value)\n",
    "print(\"Degrees of Freedom (numerator):\", degrees_of_freedom1)\n",
    "print(\"Degrees of Freedom (denominator):\", degrees_of_freedom2)\n",
    "print(\"p-value:\", p_value)\n"
   ]
  },
  {
   "cell_type": "markdown",
   "id": "f008f109",
   "metadata": {},
   "source": [
    "# The variances of two populations are known to be 10 and 15. A sample of 12 observations is taken from each population. Conduct an F-test at the 5% significance level to determine if the variances are significantly different.\n",
    "\n"
   ]
  },
  {
   "cell_type": "code",
   "execution_count": 6,
   "id": "53193661",
   "metadata": {},
   "outputs": [
    {
     "name": "stdout",
     "output_type": "stream",
     "text": [
      "F-statistic: 1.5\n",
      "Degrees of Freedom (numerator): 11\n",
      "Degrees of Freedom (denominator): 11\n",
      "Critical F-value: 3.473699051085809\n",
      "Result: Fail to reject null hypothesis\n"
     ]
    }
   ],
   "source": [
    "# To conduct the F-test, we'll follow these steps:\n",
    "\n",
    "# 1. Define the null hypothesis (H0) and the alternative hypothesis (H1):\n",
    "# H0 : The variances of the two populations are equal σ1**2 = σ2**2  \n",
    "# H1  : The variances of the two populations are significantly different σ1**2 != σ2**2 \n",
    "\n",
    "# 2. Calculate the F-statistic:\n",
    "\n",
    "# The F-statistic is calculated as the ratio of the larger sample variance to the smaller sample variance. In this case, we have \n",
    "# S1**2 = 10, S2**2 = 15, F = S2**2 / S1**2\n",
    "\n",
    "# 3.termine the critical F-value:\n",
    "# We'll use the significance level of 0.05 and the degrees of freedom for the two samples (n1 - n2 =12).Since this is a\n",
    "# two-tailed test, we'll look for the critical F-value at the 2.5% level for both tails.\n",
    "\n",
    "# 4.Compare the calculated F-statistic with the critical F-value:\n",
    "\n",
    "# If the calculated F-statistic is greater than the critical F-value, we reject the null hypothesis and conclude that the \n",
    "# variances are significantly different.\n",
    "# If the calculated F-statistic is not greater than the critical F-value, we fail to reject the null hypothesis and conclude \n",
    "# that there is not enough evidence to suggest significant differences in variances.\n",
    "\n",
    "from scipy.stats import f\n",
    "\n",
    "# Given data\n",
    "variance1 = 10\n",
    "variance2 = 15\n",
    "sample_size = 12\n",
    "significance_level = 0.05\n",
    "\n",
    "# Calculate the F-statistic\n",
    "F_statistic = variance2 / variance1\n",
    "\n",
    "# Calculate degrees of freedom\n",
    "df1 = sample_size - 1\n",
    "df2 = sample_size - 1\n",
    "\n",
    "# Calculate the critical F-value\n",
    "critical_value = f.ppf(1 - significance_level/2, df1, df2)\n",
    "\n",
    "# Conduct the F-test\n",
    "if F_statistic > critical_value:\n",
    "    result = \"Reject null hypothesis\"\n",
    "else:\n",
    "    result = \"Fail to reject null hypothesis\"\n",
    "\n",
    "print(\"F-statistic:\", F_statistic)\n",
    "print(\"Degrees of Freedom (numerator):\", df1)\n",
    "print(\"Degrees of Freedom (denominator):\", df2)\n",
    "print(\"Critical F-value:\", critical_value)\n",
    "print(\"Result:\", result)\n"
   ]
  },
  {
   "cell_type": "markdown",
   "id": "30617208",
   "metadata": {},
   "source": [
    "# A manufacturer claims that the variance of the diameter of a certain product is 0.005. A sample of 25 products is taken, and the sample variance is found to be 0.006. Conduct an F-test at the 1% significance level to determine if the claim is justified.\n",
    "\n"
   ]
  },
  {
   "cell_type": "code",
   "execution_count": 7,
   "id": "4ec95f60",
   "metadata": {},
   "outputs": [
    {
     "name": "stdout",
     "output_type": "stream",
     "text": [
      "F-statistic: 1.2\n",
      "Degrees of Freedom (numerator): 24\n",
      "Degrees of Freedom (denominator): 1\n",
      "Critical Lower F-value: 0.10469807488970448\n",
      "Critical Upper F-value: 24939.565259943236\n",
      "Result: Fail to reject null hypothesis\n"
     ]
    }
   ],
   "source": [
    "from scipy.stats import f\n",
    "\n",
    "# Given data\n",
    "claimed_variance = 0.005\n",
    "sample_variance = 0.006\n",
    "sample_size = 25\n",
    "significance_level = 0.01\n",
    "\n",
    "# Calculate the F-statistic\n",
    "F_statistic = sample_variance / claimed_variance\n",
    "\n",
    "# Calculate degrees of freedom\n",
    "df1 = sample_size - 1\n",
    "df2 = 1  # Degrees of freedom for the claimed population variance\n",
    "\n",
    "# Calculate the critical F-values\n",
    "critical_lower = f.ppf(significance_level/2, df1, df2)\n",
    "critical_upper = f.ppf(1 - significance_level/2, df1, df2)\n",
    "\n",
    "# Conduct the F-test\n",
    "if F_statistic < critical_lower or F_statistic > critical_upper:\n",
    "    result = \"Reject null hypothesis\"\n",
    "else:\n",
    "    result = \"Fail to reject null hypothesis\"\n",
    "\n",
    "print(\"F-statistic:\", F_statistic)\n",
    "print(\"Degrees of Freedom (numerator):\", df1)\n",
    "print(\"Degrees of Freedom (denominator):\", df2)\n",
    "print(\"Critical Lower F-value:\", critical_lower)\n",
    "print(\"Critical Upper F-value:\", critical_upper)\n",
    "print(\"Result:\", result)\n"
   ]
  },
  {
   "cell_type": "markdown",
   "id": "89ac9cb1",
   "metadata": {},
   "source": [
    "# Write a Python function that takes in the degrees of freedom for the numerator and denominator of an F-distribution and calculates the mean and variance of the distribution. The function should return the mean and variance as a tuple.\n",
    "\n"
   ]
  },
  {
   "cell_type": "code",
   "execution_count": 8,
   "id": "4ca0d98e",
   "metadata": {},
   "outputs": [
    {
     "name": "stdout",
     "output_type": "stream",
     "text": [
      "Mean: 1.1538461538461537\n",
      "Variance: 1.2910166756320602\n"
     ]
    }
   ],
   "source": [
    "def f_distribution_mean_variance(df1, df2):\n",
    "    if df1 <= 0 or df2 <= 0:\n",
    "        raise ValueError(\"Degrees of freedom must be greater than 0.\")\n",
    "    \n",
    "    if df2 <= 2:\n",
    "        raise ValueError(\"Degrees of freedom for the denominator must be greater than 2 for finite variance.\")\n",
    "    \n",
    "    mean = df2 / (df2 - 2)\n",
    "    variance = (2 * (df2 ** 2) * (df1 + df2 - 2)) / (df1 * (df2 - 2) ** 2 * (df2 - 4))\n",
    "    \n",
    "    return mean, variance\n",
    "\n",
    "# Example usage\n",
    "df1 = 3\n",
    "df2 = 15\n",
    "\n",
    "mean, variance = f_distribution_mean_variance(df1, df2)\n",
    "print(\"Mean:\", mean)\n",
    "print(\"Variance:\", variance)\n"
   ]
  },
  {
   "cell_type": "markdown",
   "id": "ccc88507",
   "metadata": {},
   "source": [
    "# A random sample of 10 measurements is taken from a normal population with unknown variance. The sample variance is found to be 25. Another random sample of 15 measurements is taken from another normal population with unknown variance, and the sample variance is found to be 20. Conduct an F-test at the 10% significance level to determine if the variances are significantly different.\n",
    "\n",
    "\n"
   ]
  },
  {
   "cell_type": "code",
   "execution_count": 9,
   "id": "1fc82e8c",
   "metadata": {},
   "outputs": [
    {
     "name": "stdout",
     "output_type": "stream",
     "text": [
      "F-statistic: 1.25\n",
      "Degrees of Freedom (numerator): 9\n",
      "Degrees of Freedom (denominator): 14\n",
      "Critical Lower F-value: 0.3305268601412525\n",
      "Critical Upper F-value: 2.6457907352338195\n",
      "Result: Fail to reject null hypothesis\n"
     ]
    }
   ],
   "source": [
    "from scipy.stats import f\n",
    "\n",
    "# Given data\n",
    "sample_variance1 = 25\n",
    "sample_variance2 = 20\n",
    "sample_size1 = 10\n",
    "sample_size2 = 15\n",
    "significance_level = 0.10\n",
    "\n",
    "# Calculate the F-statistic\n",
    "F_statistic = sample_variance1 / sample_variance2\n",
    "\n",
    "# Calculate degrees of freedom\n",
    "df1 = sample_size1 - 1\n",
    "df2 = sample_size2 - 1\n",
    "\n",
    "# Calculate the critical F-values\n",
    "critical_lower = f.ppf(significance_level/2, df1, df2)\n",
    "critical_upper = f.ppf(1 - significance_level/2, df1, df2)\n",
    "\n",
    "# Conduct the F-test\n",
    "if F_statistic < critical_lower or F_statistic > critical_upper:\n",
    "    result = \"Reject null hypothesis\"\n",
    "else:\n",
    "    result = \"Fail to reject null hypothesis\"\n",
    "\n",
    "print(\"F-statistic:\", F_statistic)\n",
    "print(\"Degrees of Freedom (numerator):\", df1)\n",
    "print(\"Degrees of Freedom (denominator):\", df2)\n",
    "print(\"Critical Lower F-value:\", critical_lower)\n",
    "print(\"Critical Upper F-value:\", critical_upper)\n",
    "print(\"Result:\", result)\n"
   ]
  },
  {
   "cell_type": "markdown",
   "id": "2d87fa23",
   "metadata": {},
   "source": [
    "# The following data represent the waiting times in minutes at two different restaurants on a Saturday night: Restaurant A: 24, 25, 28, 23, 22, 20, 27; Restaurant B: 31, 33, 35, 30, 32, 36. Conduct an F-test at the 5% significance level to determine if the variances are significantly different.\n",
    "\n"
   ]
  },
  {
   "cell_type": "code",
   "execution_count": 10,
   "id": "6c378ca1",
   "metadata": {},
   "outputs": [
    {
     "name": "stdout",
     "output_type": "stream",
     "text": [
      "F-statistic: 0.6871951219512196\n",
      "Degrees of Freedom (numerator): 5\n",
      "Degrees of Freedom (denominator): 6\n",
      "Critical Lower F-value: 0.14331366118441086\n",
      "Critical Upper F-value: 5.987565126046928\n",
      "Result: Fail to reject null hypothesis\n"
     ]
    }
   ],
   "source": [
    "import numpy as np\n",
    "from scipy.stats import f\n",
    "\n",
    "# Data\n",
    "data_a = np.array([24, 25, 28, 23, 22, 20, 27])\n",
    "data_b = np.array([31, 33, 35, 30, 32, 36])\n",
    "\n",
    "# Given data\n",
    "significance_level = 0.05\n",
    "\n",
    "# Calculate the sample variances\n",
    "sample_variance_a = np.var(data_a, ddof=1)\n",
    "sample_variance_b = np.var(data_b, ddof=1)\n",
    "\n",
    "# Calculate the F-statistic\n",
    "F_statistic = sample_variance_b / sample_variance_a\n",
    "\n",
    "# Calculate degrees of freedom\n",
    "df1 = len(data_b) - 1\n",
    "df2 = len(data_a) - 1\n",
    "\n",
    "# Calculate the critical F-values\n",
    "critical_lower = f.ppf(significance_level/2, df1, df2)\n",
    "critical_upper = f.ppf(1 - significance_level/2, df1, df2)\n",
    "\n",
    "# Conduct the F-test\n",
    "if F_statistic < critical_lower or F_statistic > critical_upper:\n",
    "    result = \"Reject null hypothesis\"\n",
    "else:\n",
    "    result = \"Fail to reject null hypothesis\"\n",
    "\n",
    "print(\"F-statistic:\", F_statistic)\n",
    "print(\"Degrees of Freedom (numerator):\", df1)\n",
    "print(\"Degrees of Freedom (denominator):\", df2)\n",
    "print(\"Critical Lower F-value:\", critical_lower)\n",
    "print(\"Critical Upper F-value:\", critical_upper)\n",
    "print(\"Result:\", result)\n"
   ]
  },
  {
   "cell_type": "markdown",
   "id": "0ced7ad2",
   "metadata": {},
   "source": [
    "# The following data represent the test scores of two groups of students: Group A: 80, 85, 90, 92, 87, 83; Group B: 75, 78, 82, 79, 81, 84. Conduct an F-test at the 1% significance level to determine if the variances are significantly different.\n",
    "\n"
   ]
  },
  {
   "cell_type": "code",
   "execution_count": 11,
   "id": "99099030",
   "metadata": {},
   "outputs": [
    {
     "name": "stdout",
     "output_type": "stream",
     "text": [
      "F-statistic: 0.5143338954468801\n",
      "Degrees of Freedom (numerator): 5\n",
      "Degrees of Freedom (denominator): 5\n",
      "Critical Lower F-value: 0.06693617195469603\n",
      "Critical Upper F-value: 14.939605459912219\n",
      "Result: Fail to reject null hypothesis\n"
     ]
    }
   ],
   "source": [
    "import numpy as np\n",
    "from scipy.stats import f\n",
    "\n",
    "# Data\n",
    "group_a_scores = np.array([80, 85, 90, 92, 87, 83])\n",
    "group_b_scores = np.array([75, 78, 82, 79, 81, 84])\n",
    "\n",
    "# Given data\n",
    "significance_level = 0.01\n",
    "\n",
    "# Calculate the sample variances\n",
    "sample_variance_a = np.var(group_a_scores, ddof=1)\n",
    "sample_variance_b = np.var(group_b_scores, ddof=1)\n",
    "\n",
    "# Calculate the F-statistic\n",
    "F_statistic = sample_variance_b / sample_variance_a\n",
    "\n",
    "# Calculate degrees of freedom\n",
    "df1 = len(group_b_scores) - 1\n",
    "df2 = len(group_a_scores) - 1\n",
    "\n",
    "# Calculate the critical F-values\n",
    "critical_lower = f.ppf(significance_level/2, df1, df2)\n",
    "critical_upper = f.ppf(1 - significance_level/2, df1, df2)\n",
    "\n",
    "# Conduct the F-test\n",
    "if F_statistic < critical_lower or F_statistic > critical_upper:\n",
    "    result = \"Reject null hypothesis\"\n",
    "else:\n",
    "    result = \"Fail to reject null hypothesis\"\n",
    "\n",
    "print(\"F-statistic:\", F_statistic)\n",
    "print(\"Degrees of Freedom (numerator):\", df1)\n",
    "print(\"Degrees of Freedom (denominator):\", df2)\n",
    "print(\"Critical Lower F-value:\", critical_lower)\n",
    "print(\"Critical Upper F-value:\", critical_upper)\n",
    "print(\"Result:\", result)\n"
   ]
  },
  {
   "cell_type": "code",
   "execution_count": null,
   "id": "fbd2bd41",
   "metadata": {},
   "outputs": [],
   "source": []
  }
 ],
 "metadata": {
  "kernelspec": {
   "display_name": "Python 3 (ipykernel)",
   "language": "python",
   "name": "python3"
  },
  "language_info": {
   "codemirror_mode": {
    "name": "ipython",
    "version": 3
   },
   "file_extension": ".py",
   "mimetype": "text/x-python",
   "name": "python",
   "nbconvert_exporter": "python",
   "pygments_lexer": "ipython3",
   "version": "3.11.4"
  }
 },
 "nbformat": 4,
 "nbformat_minor": 5
}
